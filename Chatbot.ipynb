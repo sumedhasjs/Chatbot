{
  "cells": [
    {
      "cell_type": "markdown",
      "metadata": {
        "id": "view-in-github",
        "colab_type": "text"
      },
      "source": [
        "<a href=\"https://colab.research.google.com/github/sumedhasjs/Chatbot/blob/main/Chatbot.ipynb\" target=\"_parent\"><img src=\"https://colab.research.google.com/assets/colab-badge.svg\" alt=\"Open In Colab\"/></a>"
      ]
    },
    {
      "cell_type": "code",
      "execution_count": null,
      "metadata": {
        "colab": {
          "base_uri": "https://localhost:8080/"
        },
        "id": "U2_9Jtm5PmlC",
        "outputId": "75f5b312-b01b-43bc-b4dd-8309927e77d2"
      },
      "outputs": [
        {
          "name": "stdout",
          "output_type": "stream",
          "text": [
            "Requirement already satisfied: nltk in /usr/local/lib/python3.7/dist-packages (3.2.5)\n",
            "Requirement already satisfied: six in /usr/local/lib/python3.7/dist-packages (from nltk) (1.15.0)\n"
          ]
        }
      ],
      "source": [
        "pip install nltk\n"
      ]
    },
    {
      "cell_type": "code",
      "execution_count": null,
      "metadata": {
        "colab": {
          "base_uri": "https://localhost:8080/"
        },
        "id": "qmgchK1APpIR",
        "outputId": "4306d3ad-9fc7-4b02-b4ec-4d106ef3140f"
      },
      "outputs": [
        {
          "name": "stdout",
          "output_type": "stream",
          "text": [
            "Collecting newspaper3k\n",
            "  Downloading newspaper3k-0.2.8-py3-none-any.whl (211 kB)\n",
            "\u001b[K     |████████████████████████████████| 211 kB 5.1 MB/s \n",
            "\u001b[?25hCollecting tldextract>=2.0.1\n",
            "  Downloading tldextract-3.3.0-py3-none-any.whl (93 kB)\n",
            "\u001b[K     |████████████████████████████████| 93 kB 1.8 MB/s \n",
            "\u001b[?25hRequirement already satisfied: lxml>=3.6.0 in /usr/local/lib/python3.7/dist-packages (from newspaper3k) (4.2.6)\n",
            "Requirement already satisfied: Pillow>=3.3.0 in /usr/local/lib/python3.7/dist-packages (from newspaper3k) (7.1.2)\n",
            "Requirement already satisfied: nltk>=3.2.1 in /usr/local/lib/python3.7/dist-packages (from newspaper3k) (3.2.5)\n",
            "Collecting cssselect>=0.9.2\n",
            "  Downloading cssselect-1.1.0-py2.py3-none-any.whl (16 kB)\n",
            "Requirement already satisfied: beautifulsoup4>=4.4.1 in /usr/local/lib/python3.7/dist-packages (from newspaper3k) (4.6.3)\n",
            "Requirement already satisfied: python-dateutil>=2.5.3 in /usr/local/lib/python3.7/dist-packages (from newspaper3k) (2.8.2)\n",
            "Collecting tinysegmenter==0.3\n",
            "  Downloading tinysegmenter-0.3.tar.gz (16 kB)\n",
            "Collecting jieba3k>=0.35.1\n",
            "  Downloading jieba3k-0.35.1.zip (7.4 MB)\n",
            "\u001b[K     |████████████████████████████████| 7.4 MB 40.4 MB/s \n",
            "\u001b[?25hRequirement already satisfied: requests>=2.10.0 in /usr/local/lib/python3.7/dist-packages (from newspaper3k) (2.23.0)\n",
            "Collecting feedparser>=5.2.1\n",
            "  Downloading feedparser-6.0.9-py3-none-any.whl (81 kB)\n",
            "\u001b[K     |████████████████████████████████| 81 kB 8.0 MB/s \n",
            "\u001b[?25hCollecting feedfinder2>=0.0.4\n",
            "  Downloading feedfinder2-0.0.4.tar.gz (3.3 kB)\n",
            "Requirement already satisfied: PyYAML>=3.11 in /usr/local/lib/python3.7/dist-packages (from newspaper3k) (3.13)\n",
            "Requirement already satisfied: six in /usr/local/lib/python3.7/dist-packages (from feedfinder2>=0.0.4->newspaper3k) (1.15.0)\n",
            "Collecting sgmllib3k\n",
            "  Downloading sgmllib3k-1.0.0.tar.gz (5.8 kB)\n",
            "Requirement already satisfied: idna<3,>=2.5 in /usr/local/lib/python3.7/dist-packages (from requests>=2.10.0->newspaper3k) (2.10)\n",
            "Requirement already satisfied: urllib3!=1.25.0,!=1.25.1,<1.26,>=1.21.1 in /usr/local/lib/python3.7/dist-packages (from requests>=2.10.0->newspaper3k) (1.24.3)\n",
            "Requirement already satisfied: chardet<4,>=3.0.2 in /usr/local/lib/python3.7/dist-packages (from requests>=2.10.0->newspaper3k) (3.0.4)\n",
            "Requirement already satisfied: certifi>=2017.4.17 in /usr/local/lib/python3.7/dist-packages (from requests>=2.10.0->newspaper3k) (2021.10.8)\n",
            "Requirement already satisfied: filelock>=3.0.8 in /usr/local/lib/python3.7/dist-packages (from tldextract>=2.0.1->newspaper3k) (3.7.0)\n",
            "Collecting requests-file>=1.4\n",
            "  Downloading requests_file-1.5.1-py2.py3-none-any.whl (3.7 kB)\n",
            "Building wheels for collected packages: tinysegmenter, feedfinder2, jieba3k, sgmllib3k\n",
            "  Building wheel for tinysegmenter (setup.py) ... \u001b[?25l\u001b[?25hdone\n",
            "  Created wheel for tinysegmenter: filename=tinysegmenter-0.3-py3-none-any.whl size=13553 sha256=d4232bfa46c7f83b08f0e1186026cd605eec708135be49d6eaec2342b41e7cdb\n",
            "  Stored in directory: /root/.cache/pip/wheels/df/67/41/faca10fa501ca010be41b49d40360c2959e1c4f09bcbfa37fa\n",
            "  Building wheel for feedfinder2 (setup.py) ... \u001b[?25l\u001b[?25hdone\n",
            "  Created wheel for feedfinder2: filename=feedfinder2-0.0.4-py3-none-any.whl size=3357 sha256=0f1c667b5a7cd364b7ca57f6345513cd907cac71f88caf7f90efd88a944e9890\n",
            "  Stored in directory: /root/.cache/pip/wheels/7f/d4/8f/6e2ca54744c9d7292d88ddb8d42876bcdab5e6d84a21c10346\n",
            "  Building wheel for jieba3k (setup.py) ... \u001b[?25l\u001b[?25hdone\n",
            "  Created wheel for jieba3k: filename=jieba3k-0.35.1-py3-none-any.whl size=7398404 sha256=b5b1ccd6e53af04ff0a298d9a4809a91d290a69e5f0eace4a6e5d1f7fe547b9b\n",
            "  Stored in directory: /root/.cache/pip/wheels/4c/91/46/3c208287b726df325a5979574324878b679116e4baae1af3c3\n",
            "  Building wheel for sgmllib3k (setup.py) ... \u001b[?25l\u001b[?25hdone\n",
            "  Created wheel for sgmllib3k: filename=sgmllib3k-1.0.0-py3-none-any.whl size=6066 sha256=daeb85489f0cf5c3ca102af4cbaa062fa5e5e8e59ddb7048a75e33a25ae636e6\n",
            "  Stored in directory: /root/.cache/pip/wheels/73/ad/a4/0dff4a6ef231fc0dfa12ffbac2a36cebfdddfe059f50e019aa\n",
            "Successfully built tinysegmenter feedfinder2 jieba3k sgmllib3k\n",
            "Installing collected packages: sgmllib3k, requests-file, tldextract, tinysegmenter, jieba3k, feedparser, feedfinder2, cssselect, newspaper3k\n",
            "Successfully installed cssselect-1.1.0 feedfinder2-0.0.4 feedparser-6.0.9 jieba3k-0.35.1 newspaper3k-0.2.8 requests-file-1.5.1 sgmllib3k-1.0.0 tinysegmenter-0.3 tldextract-3.3.0\n"
          ]
        }
      ],
      "source": [
        "pip install newspaper3k"
      ]
    },
    {
      "cell_type": "code",
      "execution_count": 52,
      "metadata": {
        "id": "BedNp-ijQSie"
      },
      "outputs": [],
      "source": [
        "from newspaper import Article\n",
        "import random\n",
        "import numpy as np\n",
        "import string\n",
        "import nltk\n",
        "from sklearn.feature_extraction.text import CountVectorizer\n",
        "from sklearn.metrics.pairwise import cosine_similarity\n",
        "import warnings\n",
        "warnings.filterwarnings('ignore')"
      ]
    },
    {
      "cell_type": "code",
      "execution_count": 53,
      "metadata": {
        "colab": {
          "base_uri": "https://localhost:8080/"
        },
        "id": "9_lPljy5Q7qj",
        "outputId": "ae185591-5b7a-4e87-a86e-4a0de09daf6e"
      },
      "outputs": [
        {
          "output_type": "stream",
          "name": "stdout",
          "text": [
            "[nltk_data] Downloading package punkt to /root/nltk_data...\n",
            "[nltk_data]   Package punkt is already up-to-date!\n"
          ]
        },
        {
          "output_type": "execute_result",
          "data": {
            "text/plain": [
              "True"
            ]
          },
          "metadata": {},
          "execution_count": 53
        }
      ],
      "source": [
        "nltk.download('punkt')"
      ]
    },
    {
      "cell_type": "code",
      "execution_count": 78,
      "metadata": {
        "id": "E5Ow2m8lRIZf"
      },
      "outputs": [],
      "source": [
        "article=Article('https://www.verywellmind.com/a-list-of-psychological-disorders-2794776')\n",
        "article.download()\n",
        "article.parse()\n",
        "article.nlp()\n",
        "corpus=article.text"
      ]
    },
    {
      "cell_type": "code",
      "execution_count": 79,
      "metadata": {
        "id": "m8INr00wScI6",
        "colab": {
          "base_uri": "https://localhost:8080/"
        },
        "outputId": "bf6ec702-5e2e-4b08-a247-56d16d948033"
      },
      "outputs": [
        {
          "output_type": "stream",
          "name": "stdout",
          "text": [
            "1\n",
            "\n",
            "Neurodevelopmental Disorders\n",
            "\n",
            "MoMo Productions / Getty Images\n",
            "\n",
            "Neurodevelopmental disorders are those that are typically diagnosed during infancy, childhood, or adolescence. These psychological disorders include:\n",
            "\n",
            "Intellectual Development Disorder\n",
            "\n",
            "Sometimes called intellectual disability, this type of developmental disorder originates prior to the age of 18 and is characterized by limitations in both intellectual functioning and adaptive behaviors.\n",
            "\n",
            "Limitations to intellectual functioning are often identified through the use of IQ tests, with an IQ score under 70 often indicating the presence of a limitation. Adaptive behaviors are those that involve practical, everyday skills such as self-care, social interaction, and living skills.\n",
            "\n",
            "Global Developmental Delay\n",
            "\n",
            "This diagnosis is for developmental disabilities in children who are under the age of five. Such delays relate to cognition, social functioning, speech, language, and motor skills.\n",
            "\n",
            "It is generally seen as a temporary diagnosis applying to kids who are still too young to take standardized IQ tests. Once children reach the age where they are able to take a standardized intelligence test, they may be diagnosed with an intellectual development disorder.\n",
            "\n",
            "Communication Disorders\n",
            "\n",
            "These disorders are those that impact the ability to use, understand, or detect language and speech. The DSM-5 identifies four different subtypes of communication disorders: language disorder, speech sound disorder, childhood-onset fluency disorder (stuttering), and social (pragmatic) communication disorder.\n",
            "\n",
            "Autism Spectrum Disorder\n",
            "\n",
            "Autism is characterized by persistent deficits in social interaction and communication in multiple life areas as well as restricted and repetitive patterns of behaviors.\n",
            "\n",
            "The DSM specifies that symptoms of autism spectrum disorder must be present during the early developmental period and that these symptoms must cause significant impairment in important areas of life including social and occupational functioning.\n",
            "\n",
            "Attention-Deficit Hyperactivity Disorder (ADHD)\n",
            "\n",
            "ADHD is characterized by a persistent pattern of hyperactivity and impulsivity and/or inattention that interferes with functioning and presents itself in two or more settings such as at home, work, school, and social situations.\n",
            "\n",
            "The DSM-5 specifies that several of the symptoms must have been present prior to the age of 12 and that these symptoms must have a negative impact on social, occupational, or academic functioning.\n"
          ]
        }
      ],
      "source": [
        "print(corpus)"
      ]
    },
    {
      "cell_type": "code",
      "execution_count": 80,
      "metadata": {
        "id": "GKnHTJTUSfFl"
      },
      "outputs": [],
      "source": [
        "text=corpus\n",
        "sentanceList=nltk.sent_tokenize(text)"
      ]
    },
    {
      "cell_type": "code",
      "execution_count": 81,
      "metadata": {
        "id": "n7tcaJHqS5su",
        "colab": {
          "base_uri": "https://localhost:8080/"
        },
        "outputId": "0c784b5e-533b-4c3a-bb3e-5f588612e931"
      },
      "outputs": [
        {
          "output_type": "stream",
          "name": "stdout",
          "text": [
            "['1\\n\\nNeurodevelopmental Disorders\\n\\nMoMo Productions / Getty Images\\n\\nNeurodevelopmental disorders are those that are typically diagnosed during infancy, childhood, or adolescence.', 'These psychological disorders include:\\n\\nIntellectual Development Disorder\\n\\nSometimes called intellectual disability, this type of developmental disorder originates prior to the age of 18 and is characterized by limitations in both intellectual functioning and adaptive behaviors.', 'Limitations to intellectual functioning are often identified through the use of IQ tests, with an IQ score under 70 often indicating the presence of a limitation.', 'Adaptive behaviors are those that involve practical, everyday skills such as self-care, social interaction, and living skills.', 'Global Developmental Delay\\n\\nThis diagnosis is for developmental disabilities in children who are under the age of five.', 'Such delays relate to cognition, social functioning, speech, language, and motor skills.', 'It is generally seen as a temporary diagnosis applying to kids who are still too young to take standardized IQ tests.', 'Once children reach the age where they are able to take a standardized intelligence test, they may be diagnosed with an intellectual development disorder.', 'Communication Disorders\\n\\nThese disorders are those that impact the ability to use, understand, or detect language and speech.', 'The DSM-5 identifies four different subtypes of communication disorders: language disorder, speech sound disorder, childhood-onset fluency disorder (stuttering), and social (pragmatic) communication disorder.', 'Autism Spectrum Disorder\\n\\nAutism is characterized by persistent deficits in social interaction and communication in multiple life areas as well as restricted and repetitive patterns of behaviors.', 'The DSM specifies that symptoms of autism spectrum disorder must be present during the early developmental period and that these symptoms must cause significant impairment in important areas of life including social and occupational functioning.', 'Attention-Deficit Hyperactivity Disorder (ADHD)\\n\\nADHD is characterized by a persistent pattern of hyperactivity and impulsivity and/or inattention that interferes with functioning and presents itself in two or more settings such as at home, work, school, and social situations.', 'The DSM-5 specifies that several of the symptoms must have been present prior to the age of 12 and that these symptoms must have a negative impact on social, occupational, or academic functioning.']\n"
          ]
        }
      ],
      "source": [
        "print(sentanceList)"
      ]
    },
    {
      "cell_type": "code",
      "execution_count": 82,
      "metadata": {
        "id": "44qUUThnS7Zr"
      },
      "outputs": [],
      "source": [
        "def GreetingResponse(text):\n",
        "  text=text.lower()\n",
        "  BotGreetings=['hello','hi','hey','hola','greetings']\n",
        "  UserGreetings=['hello','hi','hey','hola','greetings']\n",
        "  for word in text.split():\n",
        "    if word in UserGreetings:\n",
        "      return random.choice(BotGreetings)"
      ]
    },
    {
      "cell_type": "code",
      "execution_count": 83,
      "metadata": {
        "id": "Psm4QpvUVoB_"
      },
      "outputs": [],
      "source": [
        "def IndexSort(lt):\n",
        "  length=len(lt)\n",
        "  lt_index=list(range(0,length))\n",
        "  x=lt\n",
        "  for i in range(length):\n",
        "    for j in range(length):\n",
        "      if x[lt_index[i]]>x[lt_index[j]]:\n",
        "        temp=lt_index[i]\n",
        "        lt_index[i]=lt_index[j]\n",
        "        lt_index[j]=temp\n",
        "  \n",
        "  return lt_index"
      ]
    },
    {
      "cell_type": "code",
      "execution_count": 84,
      "metadata": {
        "id": "0P6X_H1VT0tm"
      },
      "outputs": [],
      "source": [
        "def BotResponse(user_input):\n",
        "  user_input=user_input.lower()\n",
        "  sentanceList.append(user_input)\n",
        "  bot_response=\"\"\n",
        "  cm=CountVectorizer().fit_transform(sentanceList)\n",
        "  similarityScores=cosine_similarity(cm[-1],cm)\n",
        "  similarityScoresLt=similarityScores.flatten()\n",
        "  index=IndexSort(similarityScoresLt)\n",
        "  index=index[1:]\n",
        "  flag=0\n",
        "  j=0\n",
        "\n",
        "  for i in range(len(index)):\n",
        "    if similarityScoresLt[index[i]]>0.0:\n",
        "      bot_response=bot_response+' '+sentanceList[index[i]]\n",
        "      flag=1\n",
        "      j=j+1\n",
        "    if j>2:\n",
        "      break\n",
        "    \n",
        "  if flag==0:\n",
        "    bot_response=bot_response+' '+\"I apologize, I couldn't find anything.\"\n",
        "\n",
        "  sentanceList.remove(user_input)\n",
        "\n",
        "  return bot_response"
      ]
    },
    {
      "cell_type": "code",
      "execution_count": 86,
      "metadata": {
        "colab": {
          "base_uri": "https://localhost:8080/"
        },
        "id": "eyxwqqgzUd_M",
        "outputId": "f6d5169d-0b2a-4386-b4bf-b5af92414ede"
      },
      "outputs": [
        {
          "output_type": "stream",
          "name": "stdout",
          "text": [
            "Doc Bot: I am Doc Bot, your mental health helpline. I will answer your queries regarding various mental health disorders. In case you want to exit, type bye.\n",
            "hey\n",
            "Doc Bot: greetings\n",
            "adhd\n",
            "Doc Bot:  Attention-Deficit Hyperactivity Disorder (ADHD)\n",
            "\n",
            "ADHD is characterized by a persistent pattern of hyperactivity and impulsivity and/or inattention that interferes with functioning and presents itself in two or more settings such as at home, work, school, and social situations.\n",
            "quit\n",
            "Doc Bot: Talk to you later. Bye!\n"
          ]
        }
      ],
      "source": [
        "print('Doc Bot: I am Doc Bot, your mental health helpline. I will answer your queries regarding various mental health disorders. In case you want to exit, type bye.')\n",
        "endLt=['exit', 'see you later','bye', 'quit']\n",
        "while(True):\n",
        "  user_input=input()\n",
        "  if user_input.lower() in endLt:\n",
        "    print('Doc Bot: Talk to you later. Bye!')\n",
        "    break\n",
        "  else:\n",
        "    if GreetingResponse(user_input) != None:\n",
        "      print('Doc Bot: '+ GreetingResponse(user_input))\n",
        "    else:\n",
        "      print('Doc Bot: '+ BotResponse(user_input))"
      ]
    }
  ],
  "metadata": {
    "colab": {
      "collapsed_sections": [],
      "name": "Chatbot.ipynb",
      "provenance": [],
      "authorship_tag": "ABX9TyO8scKRJwkKx7SfvsAlV/HZ",
      "include_colab_link": true
    },
    "kernelspec": {
      "display_name": "Python 3",
      "name": "python3"
    },
    "language_info": {
      "name": "python"
    }
  },
  "nbformat": 4,
  "nbformat_minor": 0
}